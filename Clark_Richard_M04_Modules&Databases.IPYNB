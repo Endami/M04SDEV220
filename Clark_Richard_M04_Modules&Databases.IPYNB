{
 "cells": [
  {
   "cell_type": "code",
   "execution_count": 46,
   "id": "17eee0b7-c38d-4532-a6c4-b322c74e78cc",
   "metadata": {},
   "outputs": [],
   "source": [
    "# zoo\n",
    "def hours():\n",
    "    print('Open 9-5 daily')"
   ]
  },
  {
   "cell_type": "code",
   "execution_count": null,
   "id": "8d67f42a-efcf-47cc-a8d7-bfc255aed8f8",
   "metadata": {},
   "outputs": [],
   "source": [
    "import zoo\n",
    "zoo.hours()"
   ]
  },
  {
   "cell_type": "code",
   "execution_count": null,
   "id": "5085104a-8b2f-44f2-86d9-03cc6e1e0551",
   "metadata": {},
   "outputs": [],
   "source": [
    "Open 9-5 daily"
   ]
  },
  {
   "cell_type": "code",
   "execution_count": null,
   "id": "7aba5525-fa67-4871-bf5b-bbe1159aa4c6",
   "metadata": {},
   "outputs": [],
   "source": [
    "import zoo as menagerie\n",
    "menagerie.hours()"
   ]
  },
  {
   "cell_type": "code",
   "execution_count": null,
   "id": "12363896-1b75-4794-b71e-5494cef349e6",
   "metadata": {},
   "outputs": [],
   "source": [
    "Open 9-5 daily"
   ]
  }
 ],
 "metadata": {
  "kernelspec": {
   "display_name": "Python 3 (ipykernel)",
   "language": "python",
   "name": "python3"
  },
  "language_info": {
   "codemirror_mode": {
    "name": "ipython",
    "version": 3
   },
   "file_extension": ".py",
   "mimetype": "text/x-python",
   "name": "python",
   "nbconvert_exporter": "python",
   "pygments_lexer": "ipython3",
   "version": "3.11.7"
  }
 },
 "nbformat": 4,
 "nbformat_minor": 5
}
