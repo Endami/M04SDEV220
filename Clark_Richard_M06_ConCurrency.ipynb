{
 "cells": [
  {
   "cell_type": "code",
   "execution_count": 1,
   "id": "2dd04ecd-aed1-4d65-8643-24ce473d54a5",
   "metadata": {},
   "outputs": [
    {
     "name": "stdout",
     "output_type": "stream",
     "text": [
      "The current date as a string: 2024-04-28\n",
      "today_string: 2024-04-28\n",
      "Parsed date from today_string: 2024-04-28\n"
     ]
    }
   ],
   "source": [
    "import datetime\n",
    "\n",
    "# 1. Get the current date as a string\n",
    "current_date_str = datetime.datetime.now().strftime(\"%Y-%m-%d\")\n",
    "print(f\"The current date as a string: {current_date_str}\")\n",
    "\n",
    "# 2. Create the today_string\n",
    "today_string = current_date_str\n",
    "print(f\"today_string: {today_string}\")\n",
    "\n",
    "# 3. Parse the date from today_string\n",
    "parsed_date = datetime.datetime.strptime(today_string, \"%Y-%m-%d\").date()\n",
    "print(f\"Parsed date from today_string: {parsed_date}\")\n"
   ]
  },
  {
   "cell_type": "code",
   "execution_count": 24,
   "id": "3915f36c-b233-4f84-9063-0ac6fa3a19c0",
   "metadata": {},
   "outputs": [
    {
     "name": "stdout",
     "output_type": "stream",
     "text": [
      "process 1: 20:05:32\n",
      "process 2: 20:05:32\n",
      "process 3: 20:05:32\n"
     ]
    }
   ],
   "source": [
    "import datetime\n",
    "\n",
    "# 1. Get the current time as a string\n",
    "current_time_str = datetime.datetime.now().strftime(\"%H:%M:%S\")\n",
    "print(f\"process 1: {current_time_str}\")\n",
    "\n",
    "time.sleep(1)\n",
    "\n",
    "# 2. Create the today_string\n",
    "today_string = current_time_str\n",
    "print(f\"process 2: {today_string}\")\n",
    "\n",
    "time.sleep(1)\n",
    "\n",
    "# 3. Parse the time from today_string\n",
    "parsed_time = datetime.datetime.strptime(today_string, \"%H:%M:%S\").time()\n",
    "print(f\"process 3: {parsed_time}\")\n"
   ]
  },
  {
   "cell_type": "code",
   "execution_count": null,
   "id": "5363e38d-b2d2-4e78-91d6-878715fbc969",
   "metadata": {},
   "outputs": [],
   "source": []
  }
 ],
 "metadata": {
  "kernelspec": {
   "display_name": "Python 3 (ipykernel)",
   "language": "python",
   "name": "python3"
  },
  "language_info": {
   "codemirror_mode": {
    "name": "ipython",
    "version": 3
   },
   "file_extension": ".py",
   "mimetype": "text/x-python",
   "name": "python",
   "nbconvert_exporter": "python",
   "pygments_lexer": "ipython3",
   "version": "3.11.7"
  }
 },
 "nbformat": 4,
 "nbformat_minor": 5
}
